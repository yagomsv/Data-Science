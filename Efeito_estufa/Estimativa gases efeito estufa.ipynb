{
 "cells": [
  {
   "cell_type": "markdown",
   "id": "25bb32aa-bb4d-4ff2-a0d4-9ea4d3253dc4",
   "metadata": {
    "tags": []
   },
   "source": [
    "## Projeto: Análise exploratória de dados aplicado ao banco de dados do Observatório do Clima \n",
    "\n",
    "O Sistema de Estimativas de Emissões e Remoções de Gases de Efeito Estufa (SEEG) é uma iniciativa do Observatório do Clima que compreende a produção de estimativas anuais das emissões de gases de efeito estufa (GEE) no Brasil, documentos analíticos sobre a evolução das emissões e um portal na internet para disponibilização de forma simples e clara dos métodos e dados do sistema.\n",
    "São avaliados todos os cinco setores que são fontes de emissões – Agropecuária, Energia, Mudanças de Uso da Terra, Processos Industriais e Resíduos com o mesmo grau de detalhamento contido nos inventários de emissões.\n",
    "\n",
    "O meu objetivo neste projeto é fazer uma análise exploratório dos dados da série temporal entre os anos de 1970 e 2019, da emissão dos gases do efeito estufa no Brasil tendo como guia responder às seguintes perguntas:\n",
    "1. Quais as formas que mais produzem GEE's baseado na soma das emissões de toda a série temporal?\n",
    "2. Quais os tipos de atividades que mais produzem GEE's baseado na soma das emissões de toda a série temporal?\n",
    "3. Quais os 5 anos dentro dessa serie de dados em que mais foi produzido GEE's?\n",
    "4. Quais os setores que mais produzem CO2e (t) GWP-AR5?\n",
    "5. Dentro da série temporal, qual o ano em que mais houveram emissões dos GEE's e quais atividades que mais contribuiram para as emissões nesse ano?\n",
    "\n",
    "Fonte dos dados: <https://basedosdados.org/dataset/br-seeg-emissoes>"
   ]
  },
  {
   "cell_type": "markdown",
   "id": "b35ddcb6-38d4-426d-8121-0adca70f5193",
   "metadata": {
    "tags": []
   },
   "source": [
    "### Carregando os Pacotes do Anaconda"
   ]
  },
  {
   "cell_type": "code",
   "execution_count": 2,
   "id": "da5259ce",
   "metadata": {},
   "outputs": [],
   "source": [
    "import pandas as pd\n",
    "from pandas import DataFrame\n",
    "import matplotlib.pyplot as plt\n",
    "import matplotlib as mat"
   ]
  },
  {
   "cell_type": "markdown",
   "id": "4fe627dd-0579-4d2b-a379-fb403862dda4",
   "metadata": {
    "tags": []
   },
   "source": [
    "### Carregando os dados e análise exploratóriade toda a série temporal"
   ]
  },
  {
   "cell_type": "code",
   "execution_count": 3,
   "id": "a56ffad0",
   "metadata": {},
   "outputs": [],
   "source": [
    "# Leitura dos dados a partir de um arquivo do tipo csv (arquivo obtido no site Base dos dados)\n",
    "df = pd.read_csv(\"C:/MyProjects/efeito_estufa/brasil.csv\")"
   ]
  },
  {
   "cell_type": "code",
   "execution_count": 4,
   "id": "a88368ff",
   "metadata": {},
   "outputs": [],
   "source": [
    "# Trocando o nome dos rótulos das colunas\n",
    "df.columns= ['Ano', 'Setor', 'Processo emissor', 'Forma de emissão', 'Processo Específico', \n",
    "                    'Tipo de atividade', 'Atividade específica', 'Tipo de emissão', 'Tipo de gás produzido',  \n",
    "                    'Atividade econômica', 'Produto', 'Emissão (ton)']"
   ]
  },
  {
   "cell_type": "code",
   "execution_count": 5,
   "id": "db5f0a72",
   "metadata": {
    "tags": []
   },
   "outputs": [
    {
     "data": {
      "text/html": [
       "<div>\n",
       "<style scoped>\n",
       "    .dataframe tbody tr th:only-of-type {\n",
       "        vertical-align: middle;\n",
       "    }\n",
       "\n",
       "    .dataframe tbody tr th {\n",
       "        vertical-align: top;\n",
       "    }\n",
       "\n",
       "    .dataframe thead th {\n",
       "        text-align: right;\n",
       "    }\n",
       "</style>\n",
       "<table border=\"1\" class=\"dataframe\">\n",
       "  <thead>\n",
       "    <tr style=\"text-align: right;\">\n",
       "      <th></th>\n",
       "      <th>Ano</th>\n",
       "      <th>Setor</th>\n",
       "      <th>Processo emissor</th>\n",
       "      <th>Forma de emissão</th>\n",
       "      <th>Processo Específico</th>\n",
       "      <th>Tipo de atividade</th>\n",
       "      <th>Atividade específica</th>\n",
       "      <th>Tipo de emissão</th>\n",
       "      <th>Tipo de gás produzido</th>\n",
       "      <th>Atividade econômica</th>\n",
       "      <th>Produto</th>\n",
       "      <th>Emissão (ton)</th>\n",
       "    </tr>\n",
       "  </thead>\n",
       "  <tbody>\n",
       "    <tr>\n",
       "      <th>0</th>\n",
       "      <td>1970</td>\n",
       "      <td>Agropecuária</td>\n",
       "      <td>Cultivo do Arroz</td>\n",
       "      <td>Diretas</td>\n",
       "      <td>Outros</td>\n",
       "      <td>Vegetal</td>\n",
       "      <td>Arroz</td>\n",
       "      <td>Emissão</td>\n",
       "      <td>CH4 (t)</td>\n",
       "      <td>NaN</td>\n",
       "      <td>NaN</td>\n",
       "      <td>230462.170000</td>\n",
       "    </tr>\n",
       "    <tr>\n",
       "      <th>1</th>\n",
       "      <td>1971</td>\n",
       "      <td>Agropecuária</td>\n",
       "      <td>Cultivo do Arroz</td>\n",
       "      <td>Diretas</td>\n",
       "      <td>Outros</td>\n",
       "      <td>Vegetal</td>\n",
       "      <td>Arroz</td>\n",
       "      <td>Emissão</td>\n",
       "      <td>CH4 (t)</td>\n",
       "      <td>NaN</td>\n",
       "      <td>NaN</td>\n",
       "      <td>226016.300000</td>\n",
       "    </tr>\n",
       "    <tr>\n",
       "      <th>2</th>\n",
       "      <td>1972</td>\n",
       "      <td>Agropecuária</td>\n",
       "      <td>Cultivo do Arroz</td>\n",
       "      <td>Diretas</td>\n",
       "      <td>Outros</td>\n",
       "      <td>Vegetal</td>\n",
       "      <td>Arroz</td>\n",
       "      <td>Emissão</td>\n",
       "      <td>CH4 (t)</td>\n",
       "      <td>NaN</td>\n",
       "      <td>NaN</td>\n",
       "      <td>220101.200000</td>\n",
       "    </tr>\n",
       "    <tr>\n",
       "      <th>3</th>\n",
       "      <td>1973</td>\n",
       "      <td>Agropecuária</td>\n",
       "      <td>Cultivo do Arroz</td>\n",
       "      <td>Diretas</td>\n",
       "      <td>Outros</td>\n",
       "      <td>Vegetal</td>\n",
       "      <td>Arroz</td>\n",
       "      <td>Emissão</td>\n",
       "      <td>CH4 (t)</td>\n",
       "      <td>NaN</td>\n",
       "      <td>NaN</td>\n",
       "      <td>214195.560000</td>\n",
       "    </tr>\n",
       "    <tr>\n",
       "      <th>4</th>\n",
       "      <td>1974</td>\n",
       "      <td>Agropecuária</td>\n",
       "      <td>Cultivo do Arroz</td>\n",
       "      <td>Diretas</td>\n",
       "      <td>Outros</td>\n",
       "      <td>Vegetal</td>\n",
       "      <td>Arroz</td>\n",
       "      <td>Emissão</td>\n",
       "      <td>CH4 (t)</td>\n",
       "      <td>NaN</td>\n",
       "      <td>NaN</td>\n",
       "      <td>186862.840000</td>\n",
       "    </tr>\n",
       "    <tr>\n",
       "      <th>...</th>\n",
       "      <td>...</td>\n",
       "      <td>...</td>\n",
       "      <td>...</td>\n",
       "      <td>...</td>\n",
       "      <td>...</td>\n",
       "      <td>...</td>\n",
       "      <td>...</td>\n",
       "      <td>...</td>\n",
       "      <td>...</td>\n",
       "      <td>...</td>\n",
       "      <td>...</td>\n",
       "      <td>...</td>\n",
       "    </tr>\n",
       "    <tr>\n",
       "      <th>454845</th>\n",
       "      <td>2015</td>\n",
       "      <td>Resíduos</td>\n",
       "      <td>Resíduos Sólidos</td>\n",
       "      <td>Tratamento Biológico de Resíduos Sólidos</td>\n",
       "      <td>Resíduos Sólidos Urbanos</td>\n",
       "      <td>Compostagem</td>\n",
       "      <td>NÃO SE APLICA</td>\n",
       "      <td>Emissão</td>\n",
       "      <td>N2O (t)</td>\n",
       "      <td>SANEAMENTO</td>\n",
       "      <td>NaN</td>\n",
       "      <td>74.195798</td>\n",
       "    </tr>\n",
       "    <tr>\n",
       "      <th>454846</th>\n",
       "      <td>2016</td>\n",
       "      <td>Resíduos</td>\n",
       "      <td>Resíduos Sólidos</td>\n",
       "      <td>Tratamento Biológico de Resíduos Sólidos</td>\n",
       "      <td>Resíduos Sólidos Urbanos</td>\n",
       "      <td>Compostagem</td>\n",
       "      <td>NÃO SE APLICA</td>\n",
       "      <td>Emissão</td>\n",
       "      <td>N2O (t)</td>\n",
       "      <td>SANEAMENTO</td>\n",
       "      <td>NaN</td>\n",
       "      <td>69.360711</td>\n",
       "    </tr>\n",
       "    <tr>\n",
       "      <th>454847</th>\n",
       "      <td>2017</td>\n",
       "      <td>Resíduos</td>\n",
       "      <td>Resíduos Sólidos</td>\n",
       "      <td>Tratamento Biológico de Resíduos Sólidos</td>\n",
       "      <td>Resíduos Sólidos Urbanos</td>\n",
       "      <td>Compostagem</td>\n",
       "      <td>NÃO SE APLICA</td>\n",
       "      <td>Emissão</td>\n",
       "      <td>N2O (t)</td>\n",
       "      <td>SANEAMENTO</td>\n",
       "      <td>NaN</td>\n",
       "      <td>69.919672</td>\n",
       "    </tr>\n",
       "    <tr>\n",
       "      <th>454848</th>\n",
       "      <td>2018</td>\n",
       "      <td>Resíduos</td>\n",
       "      <td>Resíduos Sólidos</td>\n",
       "      <td>Tratamento Biológico de Resíduos Sólidos</td>\n",
       "      <td>Resíduos Sólidos Urbanos</td>\n",
       "      <td>Compostagem</td>\n",
       "      <td>NÃO SE APLICA</td>\n",
       "      <td>Emissão</td>\n",
       "      <td>N2O (t)</td>\n",
       "      <td>SANEAMENTO</td>\n",
       "      <td>NaN</td>\n",
       "      <td>70.507559</td>\n",
       "    </tr>\n",
       "    <tr>\n",
       "      <th>454849</th>\n",
       "      <td>2019</td>\n",
       "      <td>Resíduos</td>\n",
       "      <td>Resíduos Sólidos</td>\n",
       "      <td>Tratamento Biológico de Resíduos Sólidos</td>\n",
       "      <td>Resíduos Sólidos Urbanos</td>\n",
       "      <td>Compostagem</td>\n",
       "      <td>NÃO SE APLICA</td>\n",
       "      <td>Emissão</td>\n",
       "      <td>N2O (t)</td>\n",
       "      <td>SANEAMENTO</td>\n",
       "      <td>NaN</td>\n",
       "      <td>71.068872</td>\n",
       "    </tr>\n",
       "  </tbody>\n",
       "</table>\n",
       "<p>454850 rows × 12 columns</p>\n",
       "</div>"
      ],
      "text/plain": [
       "         Ano         Setor  Processo emissor  \\\n",
       "0       1970  Agropecuária  Cultivo do Arroz   \n",
       "1       1971  Agropecuária  Cultivo do Arroz   \n",
       "2       1972  Agropecuária  Cultivo do Arroz   \n",
       "3       1973  Agropecuária  Cultivo do Arroz   \n",
       "4       1974  Agropecuária  Cultivo do Arroz   \n",
       "...      ...           ...               ...   \n",
       "454845  2015     Resíduos   Resíduos Sólidos   \n",
       "454846  2016     Resíduos   Resíduos Sólidos   \n",
       "454847  2017     Resíduos   Resíduos Sólidos   \n",
       "454848  2018     Resíduos   Resíduos Sólidos   \n",
       "454849  2019     Resíduos   Resíduos Sólidos   \n",
       "\n",
       "                                Forma de emissão       Processo Específico  \\\n",
       "0                                        Diretas                    Outros   \n",
       "1                                        Diretas                    Outros   \n",
       "2                                        Diretas                    Outros   \n",
       "3                                        Diretas                    Outros   \n",
       "4                                        Diretas                    Outros   \n",
       "...                                          ...                       ...   \n",
       "454845  Tratamento Biológico de Resíduos Sólidos  Resíduos Sólidos Urbanos   \n",
       "454846  Tratamento Biológico de Resíduos Sólidos  Resíduos Sólidos Urbanos   \n",
       "454847  Tratamento Biológico de Resíduos Sólidos  Resíduos Sólidos Urbanos   \n",
       "454848  Tratamento Biológico de Resíduos Sólidos  Resíduos Sólidos Urbanos   \n",
       "454849  Tratamento Biológico de Resíduos Sólidos  Resíduos Sólidos Urbanos   \n",
       "\n",
       "       Tipo de atividade Atividade específica Tipo de emissão  \\\n",
       "0                Vegetal                Arroz         Emissão   \n",
       "1                Vegetal                Arroz         Emissão   \n",
       "2                Vegetal                Arroz         Emissão   \n",
       "3                Vegetal                Arroz         Emissão   \n",
       "4                Vegetal                Arroz         Emissão   \n",
       "...                  ...                  ...             ...   \n",
       "454845       Compostagem       NÃO SE APLICA          Emissão   \n",
       "454846       Compostagem       NÃO SE APLICA          Emissão   \n",
       "454847       Compostagem       NÃO SE APLICA          Emissão   \n",
       "454848       Compostagem       NÃO SE APLICA          Emissão   \n",
       "454849       Compostagem       NÃO SE APLICA          Emissão   \n",
       "\n",
       "       Tipo de gás produzido Atividade econômica Produto  Emissão (ton)  \n",
       "0                    CH4 (t)                 NaN     NaN  230462.170000  \n",
       "1                    CH4 (t)                 NaN     NaN  226016.300000  \n",
       "2                    CH4 (t)                 NaN     NaN  220101.200000  \n",
       "3                    CH4 (t)                 NaN     NaN  214195.560000  \n",
       "4                    CH4 (t)                 NaN     NaN  186862.840000  \n",
       "...                      ...                 ...     ...            ...  \n",
       "454845               N2O (t)          SANEAMENTO     NaN      74.195798  \n",
       "454846               N2O (t)          SANEAMENTO     NaN      69.360711  \n",
       "454847               N2O (t)          SANEAMENTO     NaN      69.919672  \n",
       "454848               N2O (t)          SANEAMENTO     NaN      70.507559  \n",
       "454849               N2O (t)          SANEAMENTO     NaN      71.068872  \n",
       "\n",
       "[454850 rows x 12 columns]"
      ]
     },
     "execution_count": 5,
     "metadata": {},
     "output_type": "execute_result"
    }
   ],
   "source": [
    "df"
   ]
  },
  {
   "cell_type": "code",
   "execution_count": 6,
   "id": "c4898d52",
   "metadata": {
    "tags": []
   },
   "outputs": [
    {
     "data": {
      "text/html": [
       "<div>\n",
       "<style scoped>\n",
       "    .dataframe tbody tr th:only-of-type {\n",
       "        vertical-align: middle;\n",
       "    }\n",
       "\n",
       "    .dataframe tbody tr th {\n",
       "        vertical-align: top;\n",
       "    }\n",
       "\n",
       "    .dataframe thead th {\n",
       "        text-align: right;\n",
       "    }\n",
       "</style>\n",
       "<table border=\"1\" class=\"dataframe\">\n",
       "  <thead>\n",
       "    <tr style=\"text-align: right;\">\n",
       "      <th></th>\n",
       "      <th>Ano</th>\n",
       "      <th>Setor</th>\n",
       "      <th>Processo emissor</th>\n",
       "      <th>Forma de emissão</th>\n",
       "      <th>Processo Específico</th>\n",
       "      <th>Tipo de atividade</th>\n",
       "      <th>Atividade específica</th>\n",
       "      <th>Tipo de emissão</th>\n",
       "      <th>Tipo de gás produzido</th>\n",
       "      <th>Atividade econômica</th>\n",
       "      <th>Produto</th>\n",
       "      <th>Emissão (ton)</th>\n",
       "    </tr>\n",
       "  </thead>\n",
       "  <tbody>\n",
       "    <tr>\n",
       "      <th>1750</th>\n",
       "      <td>1970</td>\n",
       "      <td>Agropecuária</td>\n",
       "      <td>Fermentação Entérica</td>\n",
       "      <td>Diretas</td>\n",
       "      <td>Outros</td>\n",
       "      <td>Animal</td>\n",
       "      <td>Gado de Corte</td>\n",
       "      <td>Emissão</td>\n",
       "      <td>CH4 (t)</td>\n",
       "      <td>PEC</td>\n",
       "      <td>CAR</td>\n",
       "      <td>4295959.600</td>\n",
       "    </tr>\n",
       "    <tr>\n",
       "      <th>1751</th>\n",
       "      <td>1971</td>\n",
       "      <td>Agropecuária</td>\n",
       "      <td>Fermentação Entérica</td>\n",
       "      <td>Diretas</td>\n",
       "      <td>Outros</td>\n",
       "      <td>Animal</td>\n",
       "      <td>Gado de Corte</td>\n",
       "      <td>Emissão</td>\n",
       "      <td>CH4 (t)</td>\n",
       "      <td>PEC</td>\n",
       "      <td>CAR</td>\n",
       "      <td>4485726.300</td>\n",
       "    </tr>\n",
       "    <tr>\n",
       "      <th>1752</th>\n",
       "      <td>1972</td>\n",
       "      <td>Agropecuária</td>\n",
       "      <td>Fermentação Entérica</td>\n",
       "      <td>Diretas</td>\n",
       "      <td>Outros</td>\n",
       "      <td>Animal</td>\n",
       "      <td>Gado de Corte</td>\n",
       "      <td>Emissão</td>\n",
       "      <td>CH4 (t)</td>\n",
       "      <td>PEC</td>\n",
       "      <td>CAR</td>\n",
       "      <td>4675475.800</td>\n",
       "    </tr>\n",
       "    <tr>\n",
       "      <th>1753</th>\n",
       "      <td>1973</td>\n",
       "      <td>Agropecuária</td>\n",
       "      <td>Fermentação Entérica</td>\n",
       "      <td>Diretas</td>\n",
       "      <td>Outros</td>\n",
       "      <td>Animal</td>\n",
       "      <td>Gado de Corte</td>\n",
       "      <td>Emissão</td>\n",
       "      <td>CH4 (t)</td>\n",
       "      <td>PEC</td>\n",
       "      <td>CAR</td>\n",
       "      <td>4865204.800</td>\n",
       "    </tr>\n",
       "    <tr>\n",
       "      <th>1754</th>\n",
       "      <td>1974</td>\n",
       "      <td>Agropecuária</td>\n",
       "      <td>Fermentação Entérica</td>\n",
       "      <td>Diretas</td>\n",
       "      <td>Outros</td>\n",
       "      <td>Animal</td>\n",
       "      <td>Gado de Corte</td>\n",
       "      <td>Emissão</td>\n",
       "      <td>CH4 (t)</td>\n",
       "      <td>PEC</td>\n",
       "      <td>CAR</td>\n",
       "      <td>5060625.900</td>\n",
       "    </tr>\n",
       "    <tr>\n",
       "      <th>...</th>\n",
       "      <td>...</td>\n",
       "      <td>...</td>\n",
       "      <td>...</td>\n",
       "      <td>...</td>\n",
       "      <td>...</td>\n",
       "      <td>...</td>\n",
       "      <td>...</td>\n",
       "      <td>...</td>\n",
       "      <td>...</td>\n",
       "      <td>...</td>\n",
       "      <td>...</td>\n",
       "      <td>...</td>\n",
       "    </tr>\n",
       "    <tr>\n",
       "      <th>451845</th>\n",
       "      <td>2015</td>\n",
       "      <td>Resíduos</td>\n",
       "      <td>Efluentes Liquidos</td>\n",
       "      <td>Efluentes Líquidos Industriais</td>\n",
       "      <td>Produção de Leite Pasteurizado</td>\n",
       "      <td>NÃO SE APLICA</td>\n",
       "      <td>NÃO SE APLICA</td>\n",
       "      <td>Emissão</td>\n",
       "      <td>CO2e (t) GWP-AR5</td>\n",
       "      <td>Outra_IND</td>\n",
       "      <td>ALIM_BEBIDAS</td>\n",
       "      <td>90283.872</td>\n",
       "    </tr>\n",
       "    <tr>\n",
       "      <th>451846</th>\n",
       "      <td>2016</td>\n",
       "      <td>Resíduos</td>\n",
       "      <td>Efluentes Liquidos</td>\n",
       "      <td>Efluentes Líquidos Industriais</td>\n",
       "      <td>Produção de Leite Pasteurizado</td>\n",
       "      <td>NÃO SE APLICA</td>\n",
       "      <td>NÃO SE APLICA</td>\n",
       "      <td>Emissão</td>\n",
       "      <td>CO2e (t) GWP-AR5</td>\n",
       "      <td>Outra_IND</td>\n",
       "      <td>ALIM_BEBIDAS</td>\n",
       "      <td>91163.520</td>\n",
       "    </tr>\n",
       "    <tr>\n",
       "      <th>451847</th>\n",
       "      <td>2017</td>\n",
       "      <td>Resíduos</td>\n",
       "      <td>Efluentes Liquidos</td>\n",
       "      <td>Efluentes Líquidos Industriais</td>\n",
       "      <td>Produção de Leite Pasteurizado</td>\n",
       "      <td>NÃO SE APLICA</td>\n",
       "      <td>NÃO SE APLICA</td>\n",
       "      <td>Emissão</td>\n",
       "      <td>CO2e (t) GWP-AR5</td>\n",
       "      <td>Outra_IND</td>\n",
       "      <td>ALIM_BEBIDAS</td>\n",
       "      <td>92443.008</td>\n",
       "    </tr>\n",
       "    <tr>\n",
       "      <th>451848</th>\n",
       "      <td>2018</td>\n",
       "      <td>Resíduos</td>\n",
       "      <td>Efluentes Liquidos</td>\n",
       "      <td>Efluentes Líquidos Industriais</td>\n",
       "      <td>Produção de Leite Pasteurizado</td>\n",
       "      <td>NÃO SE APLICA</td>\n",
       "      <td>NÃO SE APLICA</td>\n",
       "      <td>Emissão</td>\n",
       "      <td>CO2e (t) GWP-AR5</td>\n",
       "      <td>Outra_IND</td>\n",
       "      <td>ALIM_BEBIDAS</td>\n",
       "      <td>89964.000</td>\n",
       "    </tr>\n",
       "    <tr>\n",
       "      <th>451849</th>\n",
       "      <td>2019</td>\n",
       "      <td>Resíduos</td>\n",
       "      <td>Efluentes Liquidos</td>\n",
       "      <td>Efluentes Líquidos Industriais</td>\n",
       "      <td>Produção de Leite Pasteurizado</td>\n",
       "      <td>NÃO SE APLICA</td>\n",
       "      <td>NÃO SE APLICA</td>\n",
       "      <td>Emissão</td>\n",
       "      <td>CO2e (t) GWP-AR5</td>\n",
       "      <td>Outra_IND</td>\n",
       "      <td>ALIM_BEBIDAS</td>\n",
       "      <td>89164.320</td>\n",
       "    </tr>\n",
       "  </tbody>\n",
       "</table>\n",
       "<p>219715 rows × 12 columns</p>\n",
       "</div>"
      ],
      "text/plain": [
       "         Ano         Setor      Processo emissor  \\\n",
       "1750    1970  Agropecuária  Fermentação Entérica   \n",
       "1751    1971  Agropecuária  Fermentação Entérica   \n",
       "1752    1972  Agropecuária  Fermentação Entérica   \n",
       "1753    1973  Agropecuária  Fermentação Entérica   \n",
       "1754    1974  Agropecuária  Fermentação Entérica   \n",
       "...      ...           ...                   ...   \n",
       "451845  2015     Resíduos     Efluentes Liquidos   \n",
       "451846  2016     Resíduos     Efluentes Liquidos   \n",
       "451847  2017     Resíduos     Efluentes Liquidos   \n",
       "451848  2018     Resíduos     Efluentes Liquidos   \n",
       "451849  2019     Resíduos     Efluentes Liquidos   \n",
       "\n",
       "                       Forma de emissão              Processo Específico  \\\n",
       "1750                            Diretas                           Outros   \n",
       "1751                            Diretas                           Outros   \n",
       "1752                            Diretas                           Outros   \n",
       "1753                            Diretas                           Outros   \n",
       "1754                            Diretas                           Outros   \n",
       "...                                 ...                              ...   \n",
       "451845  Efluentes Líquidos Industriais   Produção de Leite Pasteurizado    \n",
       "451846  Efluentes Líquidos Industriais   Produção de Leite Pasteurizado    \n",
       "451847  Efluentes Líquidos Industriais   Produção de Leite Pasteurizado    \n",
       "451848  Efluentes Líquidos Industriais   Produção de Leite Pasteurizado    \n",
       "451849  Efluentes Líquidos Industriais   Produção de Leite Pasteurizado    \n",
       "\n",
       "       Tipo de atividade Atividade específica Tipo de emissão  \\\n",
       "1750              Animal        Gado de Corte         Emissão   \n",
       "1751              Animal        Gado de Corte         Emissão   \n",
       "1752              Animal        Gado de Corte         Emissão   \n",
       "1753              Animal        Gado de Corte         Emissão   \n",
       "1754              Animal        Gado de Corte         Emissão   \n",
       "...                  ...                  ...             ...   \n",
       "451845    NÃO SE APLICA        NÃO SE APLICA          Emissão   \n",
       "451846    NÃO SE APLICA        NÃO SE APLICA          Emissão   \n",
       "451847    NÃO SE APLICA        NÃO SE APLICA          Emissão   \n",
       "451848    NÃO SE APLICA        NÃO SE APLICA          Emissão   \n",
       "451849    NÃO SE APLICA        NÃO SE APLICA          Emissão   \n",
       "\n",
       "       Tipo de gás produzido Atividade econômica       Produto  Emissão (ton)  \n",
       "1750                 CH4 (t)                 PEC           CAR    4295959.600  \n",
       "1751                 CH4 (t)                 PEC           CAR    4485726.300  \n",
       "1752                 CH4 (t)                 PEC           CAR    4675475.800  \n",
       "1753                 CH4 (t)                 PEC           CAR    4865204.800  \n",
       "1754                 CH4 (t)                 PEC           CAR    5060625.900  \n",
       "...                      ...                 ...           ...            ...  \n",
       "451845      CO2e (t) GWP-AR5           Outra_IND  ALIM_BEBIDAS      90283.872  \n",
       "451846      CO2e (t) GWP-AR5           Outra_IND  ALIM_BEBIDAS      91163.520  \n",
       "451847      CO2e (t) GWP-AR5           Outra_IND  ALIM_BEBIDAS      92443.008  \n",
       "451848      CO2e (t) GWP-AR5           Outra_IND  ALIM_BEBIDAS      89964.000  \n",
       "451849      CO2e (t) GWP-AR5           Outra_IND  ALIM_BEBIDAS      89164.320  \n",
       "\n",
       "[219715 rows x 12 columns]"
      ]
     },
     "execution_count": 6,
     "metadata": {},
     "output_type": "execute_result"
    }
   ],
   "source": [
    "#Apagando os dados faltantes do DataFrame\n",
    "df.dropna()"
   ]
  },
  {
   "cell_type": "code",
   "execution_count": 7,
   "id": "37593a10",
   "metadata": {},
   "outputs": [
    {
     "name": "stdout",
     "output_type": "stream",
     "text": [
      "Está série de dados foi produzida entre os anos de 1970 e 2019 ,ou seja, em 49 anos.\n"
     ]
    }
   ],
   "source": [
    "# Verificando os anos que foram produzidos os dados da série estudada\n",
    "ano1 = df['Ano'].min()\n",
    "ano2 = df['Ano'].max()\n",
    "produto = ano2 -ano1\n",
    "print(\"Está série de dados foi produzida entre os anos de\", ano1, \"e\",ano2, \",ou seja, em\", produto, 'anos.')"
   ]
  },
  {
   "cell_type": "markdown",
   "id": "d6ff4c79-6a28-471b-99ff-30b8d016fe43",
   "metadata": {
    "tags": []
   },
   "source": [
    "### Respondendo as perguntas através da investigação dos dados"
   ]
  },
  {
   "cell_type": "code",
   "execution_count": 8,
   "id": "766ac3bd",
   "metadata": {
    "tags": []
   },
   "outputs": [
    {
     "data": {
      "text/plain": [
       "Tipo de gás produzido\n",
       "CO2e (t) GWP-AR5    9.667784e+10\n",
       "CO2e (t) GWP-AR4    9.491814e+10\n",
       "CO2e (t) GWP-AR2    9.193032e+10\n",
       "CO2e (t) GTP-AR2    7.783659e+10\n",
       "CO2e (t) GTP-AR4    7.783659e+10\n",
       "CO2e (t) GTP-AR5    7.613451e+10\n",
       "CO2 (t)             6.704187e+10\n",
       "CH4 (t)             8.122703e+08\n",
       "CO (t)              6.111332e+08\n",
       "COVNM (t)           2.134975e+08\n",
       "Name: Emissão (ton), dtype: float64"
      ]
     },
     "execution_count": 8,
     "metadata": {},
     "output_type": "execute_result"
    }
   ],
   "source": [
    "# Investigando os dados\n",
    "# Quais os gases do efeito estufa mais produzidos?\n",
    "tipos = df.groupby(['Tipo de gás produzido']).sum()['Emissão (ton)']\n",
    "tipos.nlargest(10)"
   ]
  },
  {
   "cell_type": "code",
   "execution_count": 9,
   "id": "697db196",
   "metadata": {
    "tags": []
   },
   "outputs": [
    {
     "data": {
      "text/plain": [
       "Forma de emissão\n",
       "Amazônia       2.553156e+11\n",
       "Cerrado        8.202441e+10\n",
       "Diretas        7.874876e+10\n",
       "Transportes    4.352269e+10\n",
       "Pampa          2.296813e+10\n",
       "Name: Emissão (ton), dtype: float64"
      ]
     },
     "execution_count": 9,
     "metadata": {},
     "output_type": "execute_result"
    }
   ],
   "source": [
    "# Investigando os dados\n",
    "# Quais as formas que mais produzem gases do efeito estufa baseado na soma das emissões?\n",
    "formas_agr = df.groupby (['Forma de emissão'])\n",
    "emissao_agr= formas_agr['Emissão (ton)'].sum()\n",
    "\n",
    "top5_formas = emissao_agr.nlargest(5)\n",
    "top5_formas"
   ]
  },
  {
   "cell_type": "markdown",
   "id": "9d3faf0b",
   "metadata": {},
   "source": [
    "## Baseado na resposta do código acima, as <b> <span style='color:red'> formas de emissões </b> que mais produzem gases do efeito estufa são (ton):\n",
    "### <span style='color:red'> 1- Queimadas na Amazônia <span>\n",
    "### <span style='color:blue'> 2- Queimadas no Cerrado <span>\n",
    "### <span style='color:yellow'> 3- Emissões diretas <span>\n",
    "### <span style='color:green'> 4- Emissões produzidas pelos meios de Transporte\n",
    "### <span style='color:gray'>5- Queimadas no Pampa"
   ]
  },
  {
   "cell_type": "code",
   "execution_count": null,
   "id": "ac928ee1",
   "metadata": {},
   "outputs": [],
   "source": [
    "# Investigando os dados\n",
    "# Quais os setores que mais produzem gases do efeito estufa baseado na soma das emissões?\n",
    "setor_agr = df.groupby (['Setor'])\n",
    "emissaoset_agr= setor_agr['Emissão (ton)'].sum()\n",
    "\n",
    "top5_setor = emissaoset_agr.nlargest(5)\n",
    "top5_setor"
   ]
  },
  {
   "cell_type": "code",
   "execution_count": 10,
   "id": "030830f4",
   "metadata": {},
   "outputs": [
    {
     "data": {
      "text/plain": [
       "Tipo de atividade\n",
       "Desmatamento           5.177443e+11\n",
       "Animal                 6.431165e+10\n",
       "Diesel de petróleo     2.937696e+10\n",
       "Gasolina automotiva    1.303229e+10\n",
       "Óleo combustível       1.286368e+10\n",
       "Name: Emissão (ton), dtype: float64"
      ]
     },
     "execution_count": 10,
     "metadata": {},
     "output_type": "execute_result"
    }
   ],
   "source": [
    "# Investigando os dados\n",
    "# Quais os tipos de atividades que mais produzem gases do efeito estufa baseado na soma das emissões?\n",
    "atv_agr = df.groupby (['Tipo de atividade'])\n",
    "atvset_agr= atv_agr['Emissão (ton)'].sum()\n",
    "\n",
    "top5_atv = atvset_agr.nlargest(5)\n",
    "top5_atv"
   ]
  },
  {
   "cell_type": "markdown",
   "id": "410f7a06",
   "metadata": {},
   "source": [
    "## Baseado na resposta do código acima, os <b> <span style='color:red'> tipos de atividades </b> que mais produzem produzem gases do efeito estufa são (ton):\n",
    "### <span style='color:red'> 1- Desmatamento\n",
    "### <span style='color:blue'> 2- Produção animal  \n",
    "### <span style='color:yellow'> 3- Diesel de petróleo\n",
    "### <span style='color:green'> 4- Gasolina automotiva \n",
    "### <span style='color:gray'> 5- Óleo combustível"
   ]
  },
  {
   "cell_type": "code",
   "execution_count": 11,
   "id": "e11edbfe",
   "metadata": {
    "tags": []
   },
   "outputs": [
    {
     "data": {
      "text/plain": [
       "Ano\n",
       "2003    3.243864e+10\n",
       "2004    3.136576e+10\n",
       "1995    2.961321e+10\n",
       "2002    2.714583e+10\n",
       "2001    2.382514e+10\n",
       "Name: Emissão (ton), dtype: float64"
      ]
     },
     "execution_count": 11,
     "metadata": {},
     "output_type": "execute_result"
    }
   ],
   "source": [
    "# Investigando os dados\n",
    "# Quais os 5 anos dentro dessa serie de dados em que mais foi produzido gases do efeito estufa?\n",
    "ano_agr = df.groupby (['Ano'])\n",
    "anoset_agr= ano_agr['Emissão (ton)'].sum()\n",
    "\n",
    "top5_ano = anoset_agr.nlargest(5)\n",
    "top5_ano"
   ]
  },
  {
   "cell_type": "markdown",
   "id": "7bd9f4ea",
   "metadata": {},
   "source": [
    "## Baseado na resposta do código acima, os <b> <span style='color:red'> 5 anos dentro dessa serie de dados em que mais foi produzido gases do efeito </b> estufa são (ton):\n",
    "### <span style='color:red'> 1- 2003 (3.24e+10 ton)\n",
    "### <span style='color:blue'> 2- 2004 (3.13e+10 ton)\n",
    "### <span style='color:yellow'> 3- 1995 (2.96e+10 ton)\n",
    "### <span style='color:green'> 4- 2002 (2.71e+10 ton)\n",
    "### <span style='color:gray'> 5- 2001 (2.38e+10 ton)"
   ]
  },
  {
   "cell_type": "code",
   "execution_count": 12,
   "id": "cee0bada",
   "metadata": {},
   "outputs": [],
   "source": [
    "# Ordenando os anos pela quantidade de gases do efeito estufa liberados (ton)\n",
    "ano_agr = df.groupby(['Ano']).sum()['Emissão (ton)'].rename('Total de emissão por ano')\n",
    "ano_agr = pd.DataFrame(ano_agr, columns=['Total de emissão por ano'])"
   ]
  },
  {
   "cell_type": "code",
   "execution_count": 13,
   "id": "586877d6",
   "metadata": {},
   "outputs": [
    {
     "data": {
      "image/png": "[encoded data removed]",
      "text/plain": [
       "<Figure size 1080x576 with 1 Axes>"
      ]
     },
     "metadata": {},
     "output_type": "display_data"
    }
   ],
   "source": [
    "# Plot utilizando o matplotlib de um gráfico de barras (Ano x Total de emissão)\n",
    "import matplotlib\n",
    "%matplotlib inline\n",
    "plt.rcParams['figure.figsize'] = (15,8)\n",
    "matplotlib.style.use('ggplot')\n",
    "ano_agr.plot.bar()\n",
    "plt.savefig(\"High resoltion.png\",dpi=300)"
   ]
  },
  {
   "cell_type": "markdown",
   "id": "34b2a4ed",
   "metadata": {},
   "source": [
    "A partir da observação do gráfico, podemos concluir que dentro da série história <b> <span style='color:green'>entre os anos de 1970 e 1989, foi o período que menos teve emissões dos gases do efeito estufa.</b> Porém, <b> <span style='color:red'>a partir dos anos 1990 até o ano de 2003, houve um aumento brusco das emissões destes gases</b>, chegando ao pico de emissões neste ano (2003).\n",
    "A partir do ano de 2004, as emissões começaram a diminuir chegando aos anos de 2010~2011 a uma redução significativa desses níveis. Se olharmos para o final do gráfico, <b> <span style='color:gray'>2019 representa o último ano de registro dessa linha histórica</b>, neste ano podemos perceber um <b> leve aumento nas emissões se comparmos ao ano anterior </b>."
   ]
  },
  {
   "cell_type": "code",
   "execution_count": 14,
   "id": "90fc00cf",
   "metadata": {
    "scrolled": true,
    "tags": []
   },
   "outputs": [
    {
     "data": {
      "text/plain": [
       "Setor\n",
       "Mudança de Uso da Terra e Floresta    5.634244e+10\n",
       "Agropecuária                          2.147281e+10\n",
       "Energia                               1.341970e+10\n",
       "Processos Industriais                 3.084043e+09\n",
       "Resíduos                              2.358840e+09\n",
       "Name: Emissão (ton), dtype: float64"
      ]
     },
     "execution_count": 14,
     "metadata": {},
     "output_type": "execute_result"
    }
   ],
   "source": [
    "# Quais os setores que mais produzem CO2e (t) GWP-AR5?\n",
    "filt = (df['Tipo de gás produzido']== 'CO2e (t) GWP-AR5')\n",
    "setor_co2e = df.loc[filt, ['Setor', 'Emissão (ton)', 'Ano']]\n",
    "setor_co2 = setor_co2e.groupby([\"Setor\"]).sum()['Emissão (ton)']\n",
    "setor_co2.nlargest()"
   ]
  },
  {
   "cell_type": "markdown",
   "id": "300c1498-8a19-40a1-a15a-e7f1041ff0c5",
   "metadata": {},
   "source": [
    "## Baseado na resposta do código acima, os <b> <span style='color:red'> 5 setores em que mais foram produzidos CO2e (t) GWP-AR5</b> foram:\n",
    "### <span style='color:red'> 1- Mudança de Uso da Terra e Floresta (5.63e+10 ton)\n",
    "### <span style='color:blue'> 2- Agropecuária (2.14e+10 ton)\n",
    "### <span style='color:yellow'> 3- Energia  (1.34e+10 ton)\n",
    "### <span style='color:green'> 4- Processos Industriais  (3.08e+09 ton)\n",
    "### <span style='color:gray'> 5- Resíduos (2.36e+09 ton)"
   ]
  },
  {
   "cell_type": "code",
   "execution_count": 15,
   "id": "87f9ccd4",
   "metadata": {
    "tags": []
   },
   "outputs": [
    {
     "data": {
      "text/html": [
       "<div>\n",
       "<style scoped>\n",
       "    .dataframe tbody tr th:only-of-type {\n",
       "        vertical-align: middle;\n",
       "    }\n",
       "\n",
       "    .dataframe tbody tr th {\n",
       "        vertical-align: top;\n",
       "    }\n",
       "\n",
       "    .dataframe thead th {\n",
       "        text-align: right;\n",
       "    }\n",
       "</style>\n",
       "<table border=\"1\" class=\"dataframe\">\n",
       "  <thead>\n",
       "    <tr style=\"text-align: right;\">\n",
       "      <th></th>\n",
       "      <th>Setor</th>\n",
       "      <th>Emissão (ton)</th>\n",
       "      <th>Ano</th>\n",
       "    </tr>\n",
       "  </thead>\n",
       "  <tbody>\n",
       "    <tr>\n",
       "      <th>300</th>\n",
       "      <td>Agropecuária</td>\n",
       "      <td>6452940.600</td>\n",
       "      <td>1970</td>\n",
       "    </tr>\n",
       "    <tr>\n",
       "      <th>301</th>\n",
       "      <td>Agropecuária</td>\n",
       "      <td>6328456.300</td>\n",
       "      <td>1971</td>\n",
       "    </tr>\n",
       "    <tr>\n",
       "      <th>302</th>\n",
       "      <td>Agropecuária</td>\n",
       "      <td>6162833.600</td>\n",
       "      <td>1972</td>\n",
       "    </tr>\n",
       "    <tr>\n",
       "      <th>303</th>\n",
       "      <td>Agropecuária</td>\n",
       "      <td>5997475.700</td>\n",
       "      <td>1973</td>\n",
       "    </tr>\n",
       "    <tr>\n",
       "      <th>304</th>\n",
       "      <td>Agropecuária</td>\n",
       "      <td>5232159.500</td>\n",
       "      <td>1974</td>\n",
       "    </tr>\n",
       "    <tr>\n",
       "      <th>...</th>\n",
       "      <td>...</td>\n",
       "      <td>...</td>\n",
       "      <td>...</td>\n",
       "    </tr>\n",
       "    <tr>\n",
       "      <th>454795</th>\n",
       "      <td>Resíduos</td>\n",
       "      <td>54286.592</td>\n",
       "      <td>2015</td>\n",
       "    </tr>\n",
       "    <tr>\n",
       "      <th>454796</th>\n",
       "      <td>Resíduos</td>\n",
       "      <td>50748.920</td>\n",
       "      <td>2016</td>\n",
       "    </tr>\n",
       "    <tr>\n",
       "      <th>454797</th>\n",
       "      <td>Resíduos</td>\n",
       "      <td>51157.893</td>\n",
       "      <td>2017</td>\n",
       "    </tr>\n",
       "    <tr>\n",
       "      <th>454798</th>\n",
       "      <td>Resíduos</td>\n",
       "      <td>51588.031</td>\n",
       "      <td>2018</td>\n",
       "    </tr>\n",
       "    <tr>\n",
       "      <th>454799</th>\n",
       "      <td>Resíduos</td>\n",
       "      <td>51998.725</td>\n",
       "      <td>2019</td>\n",
       "    </tr>\n",
       "  </tbody>\n",
       "</table>\n",
       "<p>49750 rows × 3 columns</p>\n",
       "</div>"
      ],
      "text/plain": [
       "               Setor  Emissão (ton)   Ano\n",
       "300     Agropecuária    6452940.600  1970\n",
       "301     Agropecuária    6328456.300  1971\n",
       "302     Agropecuária    6162833.600  1972\n",
       "303     Agropecuária    5997475.700  1973\n",
       "304     Agropecuária    5232159.500  1974\n",
       "...              ...            ...   ...\n",
       "454795     Resíduos       54286.592  2015\n",
       "454796     Resíduos       50748.920  2016\n",
       "454797     Resíduos       51157.893  2017\n",
       "454798     Resíduos       51588.031  2018\n",
       "454799     Resíduos       51998.725  2019\n",
       "\n",
       "[49750 rows x 3 columns]"
      ]
     },
     "execution_count": 15,
     "metadata": {},
     "output_type": "execute_result"
    }
   ],
   "source": [
    "setor_co2e"
   ]
  },
  {
   "cell_type": "code",
   "execution_count": 16,
   "id": "7fd60409",
   "metadata": {
    "tags": []
   },
   "outputs": [],
   "source": [
    "# Criando um dataframe apenas com as colunas \"Setor\", \"Emissão (ton)\" e \"Ano\"\n",
    "setor_co2e = pd.DataFrame(setor_co2e,columns=['Setor','Emissão (ton)', 'Ano'])"
   ]
  },
  {
   "cell_type": "code",
   "execution_count": 17,
   "id": "8aea5829",
   "metadata": {
    "tags": []
   },
   "outputs": [
    {
     "data": {
      "text/html": [
       "<div>\n",
       "<style scoped>\n",
       "    .dataframe tbody tr th:only-of-type {\n",
       "        vertical-align: middle;\n",
       "    }\n",
       "\n",
       "    .dataframe tbody tr th {\n",
       "        vertical-align: top;\n",
       "    }\n",
       "\n",
       "    .dataframe thead th {\n",
       "        text-align: right;\n",
       "    }\n",
       "</style>\n",
       "<table border=\"1\" class=\"dataframe\">\n",
       "  <thead>\n",
       "    <tr style=\"text-align: right;\">\n",
       "      <th></th>\n",
       "      <th>Setor</th>\n",
       "      <th>Emissão (ton)</th>\n",
       "      <th>Ano</th>\n",
       "    </tr>\n",
       "  </thead>\n",
       "  <tbody>\n",
       "    <tr>\n",
       "      <th>300</th>\n",
       "      <td>Agropecuária</td>\n",
       "      <td>6452940.600</td>\n",
       "      <td>1970</td>\n",
       "    </tr>\n",
       "    <tr>\n",
       "      <th>301</th>\n",
       "      <td>Agropecuária</td>\n",
       "      <td>6328456.300</td>\n",
       "      <td>1971</td>\n",
       "    </tr>\n",
       "    <tr>\n",
       "      <th>302</th>\n",
       "      <td>Agropecuária</td>\n",
       "      <td>6162833.600</td>\n",
       "      <td>1972</td>\n",
       "    </tr>\n",
       "    <tr>\n",
       "      <th>303</th>\n",
       "      <td>Agropecuária</td>\n",
       "      <td>5997475.700</td>\n",
       "      <td>1973</td>\n",
       "    </tr>\n",
       "    <tr>\n",
       "      <th>304</th>\n",
       "      <td>Agropecuária</td>\n",
       "      <td>5232159.500</td>\n",
       "      <td>1974</td>\n",
       "    </tr>\n",
       "    <tr>\n",
       "      <th>...</th>\n",
       "      <td>...</td>\n",
       "      <td>...</td>\n",
       "      <td>...</td>\n",
       "    </tr>\n",
       "    <tr>\n",
       "      <th>454795</th>\n",
       "      <td>Resíduos</td>\n",
       "      <td>54286.592</td>\n",
       "      <td>2015</td>\n",
       "    </tr>\n",
       "    <tr>\n",
       "      <th>454796</th>\n",
       "      <td>Resíduos</td>\n",
       "      <td>50748.920</td>\n",
       "      <td>2016</td>\n",
       "    </tr>\n",
       "    <tr>\n",
       "      <th>454797</th>\n",
       "      <td>Resíduos</td>\n",
       "      <td>51157.893</td>\n",
       "      <td>2017</td>\n",
       "    </tr>\n",
       "    <tr>\n",
       "      <th>454798</th>\n",
       "      <td>Resíduos</td>\n",
       "      <td>51588.031</td>\n",
       "      <td>2018</td>\n",
       "    </tr>\n",
       "    <tr>\n",
       "      <th>454799</th>\n",
       "      <td>Resíduos</td>\n",
       "      <td>51998.725</td>\n",
       "      <td>2019</td>\n",
       "    </tr>\n",
       "  </tbody>\n",
       "</table>\n",
       "<p>49750 rows × 3 columns</p>\n",
       "</div>"
      ],
      "text/plain": [
       "               Setor  Emissão (ton)   Ano\n",
       "300     Agropecuária    6452940.600  1970\n",
       "301     Agropecuária    6328456.300  1971\n",
       "302     Agropecuária    6162833.600  1972\n",
       "303     Agropecuária    5997475.700  1973\n",
       "304     Agropecuária    5232159.500  1974\n",
       "...              ...            ...   ...\n",
       "454795     Resíduos       54286.592  2015\n",
       "454796     Resíduos       50748.920  2016\n",
       "454797     Resíduos       51157.893  2017\n",
       "454798     Resíduos       51588.031  2018\n",
       "454799     Resíduos       51998.725  2019\n",
       "\n",
       "[49750 rows x 3 columns]"
      ]
     },
     "execution_count": 17,
     "metadata": {},
     "output_type": "execute_result"
    }
   ],
   "source": [
    "setor_co2e"
   ]
  },
  {
   "cell_type": "code",
   "execution_count": 18,
   "id": "b98cef20-1c51-45a9-8631-a4ed359be4aa",
   "metadata": {
    "tags": []
   },
   "outputs": [
    {
     "data": {
      "text/plain": [
       "Setor             object\n",
       "Emissão (ton)    float64\n",
       "Ano                int64\n",
       "dtype: object"
      ]
     },
     "execution_count": 18,
     "metadata": {},
     "output_type": "execute_result"
    }
   ],
   "source": [
    "setor_co2e.dtypes"
   ]
  },
  {
   "cell_type": "code",
   "execution_count": 19,
   "id": "f335bc5f",
   "metadata": {},
   "outputs": [
    {
     "name": "stderr",
     "output_type": "stream",
     "text": [
      "No artists with labels found to put in legend.  Note that artists whose label start with an underscore are ignored when legend() is called with no argument.\n"
     ]
    },
    {
     "data": {
      "image/png": "[encoded data removed]",
      "text/plain": [
       "<Figure size 1080x576 with 1 Axes>"
      ]
     },
     "metadata": {
      "needs_background": "light"
     },
     "output_type": "display_data"
    }
   ],
   "source": [
    "import matplotlib.pyplot as plt\n",
    "%matplotlib inline\n",
    "\n",
    "mudanca = setor_co2e.loc[setor_co2e['Setor'] == 'Mudança de Uso da Terra e Floresta']\n",
    "mudanca = mudanca.groupby([\"Ano\"]).sum()['Emissão (ton)']\n",
    "\n",
    "agro = setor_co2e.loc[setor_co2e['Setor'] == 'Agropecuária']\n",
    "agro = agro.groupby([\"Ano\"]).sum()['Emissão (ton)']\n",
    "\n",
    "ener = setor_co2e.loc[setor_co2e['Setor'] == 'Energia']\n",
    "ener = ener.groupby([\"Ano\"]).sum()['Emissão (ton)']\n",
    "\n",
    "ind = setor_co2e.loc[setor_co2e['Setor'] == 'Processos Industriais']\n",
    "ind = ind.groupby([\"Ano\"]).sum()['Emissão (ton)']\n",
    "\n",
    "res = setor_co2e.loc[setor_co2e['Setor'] == 'Resíduos']\n",
    "res = res.groupby([\"Ano\"]).sum()['Emissão (ton)']\n",
    "#res\n",
    "\n",
    "plt.rcParams['figure.figsize'] = (15,8)\n",
    "plt.title('Série temporal (1970-2019) de emissões de CO2 (t) por setor')\n",
    "\n",
    "plt.plot(mudanca, 'b')\n",
    "plt.plot(agro, 'r')\n",
    "plt.plot(ener, 'g')\n",
    "plt.plot(ind,'m')\n",
    "\n",
    "plt.xlabel('Ano')\n",
    "plt.ylabel('Emissão de CO2 (ton)')\n",
    "\n",
    "plt.legend()\n",
    "plt.show()"
   ]
  },
  {
   "cell_type": "markdown",
   "id": "a4db36d7-a9a5-48d3-be6a-72e2924c80c8",
   "metadata": {},
   "source": [
    "Ao estudarmos o gráfico criado acima podemos observar que dentro do setor de <b> <span style='color:red'>Mudança de Uso da Terra e Floresta </b>, existe um salto nas emissões a partir do ano de 1989, chegando ao pico do seu valor entre os anos de 2003~2004, desde então as emissões desse setor vem diminuindo, porém voltou a crescer a partir do ano de 2013.\n",
    "    Para os setores de <b> <span style='color:blue'> Agropecuária </b>, <b> <span style='color:yellow'> energia </b>, e <b> <span style='color:green'> processos industriais </b>, desde o inicío dos registro dessa série temporal (1970) até o ano de 2019 (final da série), as emissões vem aumentando, porém em valores menores se comparado aos da Mudança de Uso da Terra e Floresta."
   ]
  },
  {
   "cell_type": "code",
   "execution_count": 20,
   "id": "01f8baf9",
   "metadata": {
    "tags": []
   },
   "outputs": [
    {
     "data": {
      "text/plain": [
       "Tipo de atividade\n",
       "Desmatamento          3.165934e+10\n",
       "Animal                1.543789e+09\n",
       "Diesel de petróleo    7.211914e+08\n",
       "Vegetal               4.110067e+08\n",
       "Outros                2.917821e+08\n",
       "Name: Emissão (ton), dtype: float64"
      ]
     },
     "execution_count": 20,
     "metadata": {},
     "output_type": "execute_result"
    }
   ],
   "source": [
    "# Filtrandos os dados baseado no ano de 2003 (ano com maior produção de gases do efeito estufa)\n",
    "#para descobrir quais atividades mais produziram gases do efeito estufa\n",
    "# utilizando a função .isin() para procurar o 'ano' (2003), dentro ca coluna 'Ano' no DataFrame df\n",
    "ano = [2003]\n",
    "filt = df['Ano'].isin(ano)\n",
    "atv = df.loc[filt]\n",
    "atv_agr_2003 = atv.groupby (['Tipo de atividade'])\n",
    "atvs_2003 = atv_agr_2003['Emissão (ton)'].sum()\n",
    "atvs_2003.nlargest(5)"
   ]
  },
  {
   "cell_type": "markdown",
   "id": "8ee461ca",
   "metadata": {},
   "source": [
    "As <b> <span style='color:gray'> atividades que mais produziram gases do efeito estufa </b> no ano de 2003, ano com maior produção de gases do efeito estufa, foram: <b> <span style='color:Red'>  o desmatamento </b>, <b> <span style='color:blue'>a produção animal</b>,  <b> <span style='color:brown'>o diesel de petróleo</b>, <b> <span style='color:green'>a produção vegetal e outros.</b>\n",
    "Essa e outras observações obtidas na análise de dados podem ser confirmadas pelo relatório produzido pelo <b>Observatório do Clima </b>que mostra a análise das emissões entre os anos de 1970-2019.\n",
    "Link do relatório: <https://seeg-br.s3.amazonaws.com/Documentos%20Analiticos/SEEG_8/SEEG8_DOC_ANALITICO_SINTESE_1990-2019.pdf>"
   ]
  }
 ],
 "metadata": {
  "kernelspec": {
   "display_name": "Python 3 (ipykernel)",
   "language": "python",
   "name": "python3"
  },
  "language_info": {
   "codemirror_mode": {
    "name": "ipython",
    "version": 3
   },
   "file_extension": ".py",
   "mimetype": "text/x-python",
   "name": "python",
   "nbconvert_exporter": "python",
   "pygments_lexer": "ipython3",
   "version": "3.9.7"
  }
 },
 "nbformat": 4,
 "nbformat_minor": 5
}
